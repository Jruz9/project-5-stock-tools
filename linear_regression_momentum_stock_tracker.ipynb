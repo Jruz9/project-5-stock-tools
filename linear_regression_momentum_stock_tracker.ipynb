{
 "cells": [
  {
   "cell_type": "markdown",
   "id": "5a45d522",
   "metadata": {},
   "source": [
    "# Project 5\n",
    "\n",
    "\n",
    "- In this project we will use k mean clustering to detect the voalatility of a sector of stocks.\n",
    "- In this project we are using linear regression to help detect mommentum in stocks and possbile things you can use to help someone in their endevor in the stock market. (optional)\n",
    "- The project uses data from alpaca and uses this article as a basis and is going to be more than what the author purpose dureing extraction of this data.\n",
    "- we may use google trends information and reddit growth to help give more confidence in our inference and how we can use it to detect alpha.\n",
    "\n",
    "- we could include information from new(aka fud and options) to help but this will proably be just a optional if the above is completed.\n",
    "\n",
    "- this is just a set of tool to use to help with your analysis in the stock and cannot guarentee alpha.\n",
    "\n",
    "\n",
    "## Links:\n",
    "- https://alpaca.markets/learn/linear-regression-zipline-trader/ (source for code)\n",
    "- https://alpaca.markets/ (source for data)\n",
    "- https://pythonforfinance.net/2018/02/08/stock-clusters-using-k-means-algorithm-in-python/ ( k mean clustering)\n",
    "\n",
    "\n",
    "## Process:\n",
    "- Take a sector of stocks in a exchange like the nyse, dows, russell,etc. (use stock screeners to help decide dataset)\n",
    "- Use either the k clustering method and voalitiliy method for the analysis\n",
    "- Use g trend information to find possible information about trends in their sectors"
   ]
  },
  {
   "cell_type": "markdown",
   "id": "45b14308",
   "metadata": {},
   "source": [
    "\n"
   ]
  },
  {
   "cell_type": "code",
   "execution_count": 1,
   "id": "aa2ae9a1",
   "metadata": {},
   "outputs": [],
   "source": [
    "# imports \n",
    "import pandas as pd\n",
    "import numpy as np\n",
    "import seaborn as sns\n",
    "import os\n",
    "import datetime\n",
    "from matplotlib import pyplot as plt"
   ]
  }
 ],
 "metadata": {
  "kernelspec": {
   "display_name": "Python 3 (ipykernel)",
   "language": "python",
   "name": "python3"
  },
  "language_info": {
   "codemirror_mode": {
    "name": "ipython",
    "version": 3
   },
   "file_extension": ".py",
   "mimetype": "text/x-python",
   "name": "python",
   "nbconvert_exporter": "python",
   "pygments_lexer": "ipython3",
   "version": "3.9.5"
  }
 },
 "nbformat": 4,
 "nbformat_minor": 5
}
